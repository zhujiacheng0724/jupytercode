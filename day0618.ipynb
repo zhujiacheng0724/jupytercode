{
 "cells": [
  {
   "cell_type": "code",
   "execution_count": 1,
   "id": "65101336",
   "metadata": {},
   "outputs": [],
   "source": [
    "import numpy as np"
   ]
  },
  {
   "cell_type": "code",
   "execution_count": 2,
   "id": "9157f77b",
   "metadata": {},
   "outputs": [
    {
     "name": "stdout",
     "output_type": "stream",
     "text": [
      "[-1.62203109 -0.04084524 -1.68697166 ... -1.10488027  0.73943188\n",
      "  1.0394455 ]\n"
     ]
    }
   ],
   "source": [
    "x=np.random.randn(10000)\n",
    "\n",
    "print(x)"
   ]
  },
  {
   "cell_type": "code",
   "execution_count": null,
   "id": "2450f52b",
   "metadata": {},
   "outputs": [],
   "source": [
    "print(np.sum)"
   ]
  }
 ],
 "metadata": {
  "kernelspec": {
   "display_name": "Python 3 (ipykernel)",
   "language": "python",
   "name": "python3"
  },
  "language_info": {
   "codemirror_mode": {
    "name": "ipython",
    "version": 3
   },
   "file_extension": ".py",
   "mimetype": "text/x-python",
   "name": "python",
   "nbconvert_exporter": "python",
   "pygments_lexer": "ipython3",
   "version": "3.9.12"
  }
 },
 "nbformat": 4,
 "nbformat_minor": 5
}
