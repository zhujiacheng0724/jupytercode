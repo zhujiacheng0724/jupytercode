{
 "cells": [
  {
   "cell_type": "code",
   "execution_count": 3,
   "id": "de05a507",
   "metadata": {},
   "outputs": [],
   "source": [
    "import numpy as np \n",
    "import matplotlib.pyplot as plt\n",
    "import skimage\n",
    "import skimage.draw as draw"
   ]
  },
  {
   "cell_type": "code",
   "execution_count": 4,
   "id": "79635ab1",
   "metadata": {},
   "outputs": [
    {
     "ename": "AttributeError",
     "evalue": "module 'skimage.draw' has no attribute 'circle'",
     "output_type": "error",
     "traceback": [
      "\u001b[1;31m---------------------------------------------------------------------------\u001b[0m",
      "\u001b[1;31mAttributeError\u001b[0m                            Traceback (most recent call last)",
      "Input \u001b[1;32mIn [4]\u001b[0m, in \u001b[0;36m<cell line: 3>\u001b[1;34m()\u001b[0m\n\u001b[0;32m      1\u001b[0m \u001b[38;5;66;03m#霍夫变化-圆检测\u001b[39;00m\n\u001b[0;32m      2\u001b[0m img\u001b[38;5;241m=\u001b[39m np\u001b[38;5;241m.\u001b[39mzeros([\u001b[38;5;241m200\u001b[39m,\u001b[38;5;241m200\u001b[39m])\n\u001b[1;32m----> 3\u001b[0m h,w\u001b[38;5;241m=\u001b[39m\u001b[43mdraw\u001b[49m\u001b[38;5;241;43m.\u001b[39;49m\u001b[43mcircle\u001b[49m(\u001b[38;5;241m150\u001b[39m,\u001b[38;5;241m50\u001b[39m,\u001b[38;5;241m30\u001b[39m)\n\u001b[0;32m      4\u001b[0m img[h,w]\u001b[38;5;241m=\u001b[39m\u001b[38;5;241m1\u001b[39m\n\u001b[0;32m      5\u001b[0m \u001b[38;5;66;03m#画一个矩形\u001b[39;00m\n",
      "\u001b[1;31mAttributeError\u001b[0m: module 'skimage.draw' has no attribute 'circle'"
     ]
    }
   ],
   "source": [
    "#霍夫变化-圆检测\n",
    "img= np.zeros([200,200])\n",
    "h,w=draw.circle(150,50,30)\n",
    "img[h,w]=1\n",
    "#画一个矩形\n",
    "img[40:60,60:80]=1\n",
    "\n",
    "plt.imshow(img)"
   ]
  },
  {
   "cell_type": "code",
   "execution_count": null,
   "id": "3557550a",
   "metadata": {},
   "outputs": [],
   "source": []
  }
 ],
 "metadata": {
  "kernelspec": {
   "display_name": "Python 3 (ipykernel)",
   "language": "python",
   "name": "python3"
  },
  "language_info": {
   "codemirror_mode": {
    "name": "ipython",
    "version": 3
   },
   "file_extension": ".py",
   "mimetype": "text/x-python",
   "name": "python",
   "nbconvert_exporter": "python",
   "pygments_lexer": "ipython3",
   "version": "3.9.12"
  }
 },
 "nbformat": 4,
 "nbformat_minor": 5
}
